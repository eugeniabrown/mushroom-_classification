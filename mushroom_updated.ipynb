{
  "cells": [
    {
      "cell_type": "code",
      "execution_count": null,
      "metadata": {
        "id": "llxx4O9smrMC"
      },
      "outputs": [],
      "source": [
        "import numpy as np\n",
        "import pandas as pd\n",
        "import matplotlib.pyplot as plt\n",
        "import seaborn as sns\n",
        "import plotly.express as px"
      ]
    },
    {
      "cell_type": "code",
      "execution_count": null,
      "metadata": {
        "id": "i6sfc8GcmrMG"
      },
      "outputs": [],
      "source": [
        "df = pd.read_csv('data/mushroom.csv')"
      ]
    },
    {
      "cell_type": "code",
      "execution_count": null,
      "metadata": {
        "id": "qHerj_jRmrMG",
        "outputId": "ce269fc1-972e-436b-bfda-6ebe84f9b153"
      },
      "outputs": [
        {
          "data": {
            "text/html": [
              "<div>\n",
              "<style scoped>\n",
              "    .dataframe tbody tr th:only-of-type {\n",
              "        vertical-align: middle;\n",
              "    }\n",
              "\n",
              "    .dataframe tbody tr th {\n",
              "        vertical-align: top;\n",
              "    }\n",
              "\n",
              "    .dataframe thead th {\n",
              "        text-align: right;\n",
              "    }\n",
              "</style>\n",
              "<table border=\"1\" class=\"dataframe\">\n",
              "  <thead>\n",
              "    <tr style=\"text-align: right;\">\n",
              "      <th></th>\n",
              "      <th>cap-shape</th>\n",
              "      <th>cap-surface</th>\n",
              "      <th>cap-color</th>\n",
              "      <th>bruises%3F</th>\n",
              "      <th>odor</th>\n",
              "      <th>gill-attachment</th>\n",
              "      <th>gill-spacing</th>\n",
              "      <th>gill-size</th>\n",
              "      <th>gill-color</th>\n",
              "      <th>stalk-shape</th>\n",
              "      <th>...</th>\n",
              "      <th>stalk-color-above-ring</th>\n",
              "      <th>stalk-color-below-ring</th>\n",
              "      <th>veil-type</th>\n",
              "      <th>veil-color</th>\n",
              "      <th>ring-number</th>\n",
              "      <th>ring-type</th>\n",
              "      <th>spore-print-color</th>\n",
              "      <th>population</th>\n",
              "      <th>habitat</th>\n",
              "      <th>class</th>\n",
              "    </tr>\n",
              "  </thead>\n",
              "  <tbody>\n",
              "    <tr>\n",
              "      <th>0</th>\n",
              "      <td>b'x'</td>\n",
              "      <td>b's'</td>\n",
              "      <td>b'n'</td>\n",
              "      <td>b't'</td>\n",
              "      <td>b'p'</td>\n",
              "      <td>b'f'</td>\n",
              "      <td>b'c'</td>\n",
              "      <td>b'n'</td>\n",
              "      <td>b'k'</td>\n",
              "      <td>b'e'</td>\n",
              "      <td>...</td>\n",
              "      <td>b'w'</td>\n",
              "      <td>b'w'</td>\n",
              "      <td>b'p'</td>\n",
              "      <td>b'w'</td>\n",
              "      <td>b'o'</td>\n",
              "      <td>b'p'</td>\n",
              "      <td>b'k'</td>\n",
              "      <td>b's'</td>\n",
              "      <td>b'u'</td>\n",
              "      <td>b'p'</td>\n",
              "    </tr>\n",
              "    <tr>\n",
              "      <th>1</th>\n",
              "      <td>b'x'</td>\n",
              "      <td>b's'</td>\n",
              "      <td>b'y'</td>\n",
              "      <td>b't'</td>\n",
              "      <td>b'a'</td>\n",
              "      <td>b'f'</td>\n",
              "      <td>b'c'</td>\n",
              "      <td>b'b'</td>\n",
              "      <td>b'k'</td>\n",
              "      <td>b'e'</td>\n",
              "      <td>...</td>\n",
              "      <td>b'w'</td>\n",
              "      <td>b'w'</td>\n",
              "      <td>b'p'</td>\n",
              "      <td>b'w'</td>\n",
              "      <td>b'o'</td>\n",
              "      <td>b'p'</td>\n",
              "      <td>b'n'</td>\n",
              "      <td>b'n'</td>\n",
              "      <td>b'g'</td>\n",
              "      <td>b'e'</td>\n",
              "    </tr>\n",
              "    <tr>\n",
              "      <th>2</th>\n",
              "      <td>b'b'</td>\n",
              "      <td>b's'</td>\n",
              "      <td>b'w'</td>\n",
              "      <td>b't'</td>\n",
              "      <td>b'l'</td>\n",
              "      <td>b'f'</td>\n",
              "      <td>b'c'</td>\n",
              "      <td>b'b'</td>\n",
              "      <td>b'n'</td>\n",
              "      <td>b'e'</td>\n",
              "      <td>...</td>\n",
              "      <td>b'w'</td>\n",
              "      <td>b'w'</td>\n",
              "      <td>b'p'</td>\n",
              "      <td>b'w'</td>\n",
              "      <td>b'o'</td>\n",
              "      <td>b'p'</td>\n",
              "      <td>b'n'</td>\n",
              "      <td>b'n'</td>\n",
              "      <td>b'm'</td>\n",
              "      <td>b'e'</td>\n",
              "    </tr>\n",
              "    <tr>\n",
              "      <th>3</th>\n",
              "      <td>b'x'</td>\n",
              "      <td>b'y'</td>\n",
              "      <td>b'w'</td>\n",
              "      <td>b't'</td>\n",
              "      <td>b'p'</td>\n",
              "      <td>b'f'</td>\n",
              "      <td>b'c'</td>\n",
              "      <td>b'n'</td>\n",
              "      <td>b'n'</td>\n",
              "      <td>b'e'</td>\n",
              "      <td>...</td>\n",
              "      <td>b'w'</td>\n",
              "      <td>b'w'</td>\n",
              "      <td>b'p'</td>\n",
              "      <td>b'w'</td>\n",
              "      <td>b'o'</td>\n",
              "      <td>b'p'</td>\n",
              "      <td>b'k'</td>\n",
              "      <td>b's'</td>\n",
              "      <td>b'u'</td>\n",
              "      <td>b'p'</td>\n",
              "    </tr>\n",
              "    <tr>\n",
              "      <th>4</th>\n",
              "      <td>b'x'</td>\n",
              "      <td>b's'</td>\n",
              "      <td>b'g'</td>\n",
              "      <td>b'f'</td>\n",
              "      <td>b'n'</td>\n",
              "      <td>b'f'</td>\n",
              "      <td>b'w'</td>\n",
              "      <td>b'b'</td>\n",
              "      <td>b'k'</td>\n",
              "      <td>b't'</td>\n",
              "      <td>...</td>\n",
              "      <td>b'w'</td>\n",
              "      <td>b'w'</td>\n",
              "      <td>b'p'</td>\n",
              "      <td>b'w'</td>\n",
              "      <td>b'o'</td>\n",
              "      <td>b'e'</td>\n",
              "      <td>b'n'</td>\n",
              "      <td>b'a'</td>\n",
              "      <td>b'g'</td>\n",
              "      <td>b'e'</td>\n",
              "    </tr>\n",
              "  </tbody>\n",
              "</table>\n",
              "<p>5 rows × 23 columns</p>\n",
              "</div>"
            ],
            "text/plain": [
              "  cap-shape cap-surface cap-color bruises%3F  odor gill-attachment  \\\n",
              "0      b'x'        b's'      b'n'       b't'  b'p'            b'f'   \n",
              "1      b'x'        b's'      b'y'       b't'  b'a'            b'f'   \n",
              "2      b'b'        b's'      b'w'       b't'  b'l'            b'f'   \n",
              "3      b'x'        b'y'      b'w'       b't'  b'p'            b'f'   \n",
              "4      b'x'        b's'      b'g'       b'f'  b'n'            b'f'   \n",
              "\n",
              "  gill-spacing gill-size gill-color stalk-shape  ... stalk-color-above-ring  \\\n",
              "0         b'c'      b'n'       b'k'        b'e'  ...                   b'w'   \n",
              "1         b'c'      b'b'       b'k'        b'e'  ...                   b'w'   \n",
              "2         b'c'      b'b'       b'n'        b'e'  ...                   b'w'   \n",
              "3         b'c'      b'n'       b'n'        b'e'  ...                   b'w'   \n",
              "4         b'w'      b'b'       b'k'        b't'  ...                   b'w'   \n",
              "\n",
              "  stalk-color-below-ring veil-type veil-color ring-number ring-type  \\\n",
              "0                   b'w'      b'p'       b'w'        b'o'      b'p'   \n",
              "1                   b'w'      b'p'       b'w'        b'o'      b'p'   \n",
              "2                   b'w'      b'p'       b'w'        b'o'      b'p'   \n",
              "3                   b'w'      b'p'       b'w'        b'o'      b'p'   \n",
              "4                   b'w'      b'p'       b'w'        b'o'      b'e'   \n",
              "\n",
              "  spore-print-color population habitat class  \n",
              "0              b'k'       b's'    b'u'  b'p'  \n",
              "1              b'n'       b'n'    b'g'  b'e'  \n",
              "2              b'n'       b'n'    b'm'  b'e'  \n",
              "3              b'k'       b's'    b'u'  b'p'  \n",
              "4              b'n'       b'a'    b'g'  b'e'  \n",
              "\n",
              "[5 rows x 23 columns]"
            ]
          },
          "execution_count": 3,
          "metadata": {},
          "output_type": "execute_result"
        }
      ],
      "source": [
        "df.head()"
      ]
    },
    {
      "cell_type": "code",
      "execution_count": null,
      "metadata": {
        "id": "QpJMg0bAmrMH",
        "outputId": "b959f831-8027-4051-c554-544ff97744d4"
      },
      "outputs": [
        {
          "data": {
            "text/html": [
              "<div>\n",
              "<style scoped>\n",
              "    .dataframe tbody tr th:only-of-type {\n",
              "        vertical-align: middle;\n",
              "    }\n",
              "\n",
              "    .dataframe tbody tr th {\n",
              "        vertical-align: top;\n",
              "    }\n",
              "\n",
              "    .dataframe thead th {\n",
              "        text-align: right;\n",
              "    }\n",
              "</style>\n",
              "<table border=\"1\" class=\"dataframe\">\n",
              "  <thead>\n",
              "    <tr style=\"text-align: right;\">\n",
              "      <th></th>\n",
              "      <th>cap-shape</th>\n",
              "      <th>cap-surface</th>\n",
              "      <th>cap-color</th>\n",
              "      <th>bruises%3F</th>\n",
              "      <th>odor</th>\n",
              "      <th>gill-attachment</th>\n",
              "      <th>gill-spacing</th>\n",
              "      <th>gill-size</th>\n",
              "      <th>gill-color</th>\n",
              "      <th>stalk-shape</th>\n",
              "      <th>...</th>\n",
              "      <th>stalk-color-above-ring</th>\n",
              "      <th>stalk-color-below-ring</th>\n",
              "      <th>veil-type</th>\n",
              "      <th>veil-color</th>\n",
              "      <th>ring-number</th>\n",
              "      <th>ring-type</th>\n",
              "      <th>spore-print-color</th>\n",
              "      <th>population</th>\n",
              "      <th>habitat</th>\n",
              "      <th>class</th>\n",
              "    </tr>\n",
              "  </thead>\n",
              "  <tbody>\n",
              "    <tr>\n",
              "      <th>count</th>\n",
              "      <td>8124</td>\n",
              "      <td>8124</td>\n",
              "      <td>8124</td>\n",
              "      <td>8124</td>\n",
              "      <td>8124</td>\n",
              "      <td>8124</td>\n",
              "      <td>8124</td>\n",
              "      <td>8124</td>\n",
              "      <td>8124</td>\n",
              "      <td>8124</td>\n",
              "      <td>...</td>\n",
              "      <td>8124</td>\n",
              "      <td>8124</td>\n",
              "      <td>8124</td>\n",
              "      <td>8124</td>\n",
              "      <td>8124</td>\n",
              "      <td>8124</td>\n",
              "      <td>8124</td>\n",
              "      <td>8124</td>\n",
              "      <td>8124</td>\n",
              "      <td>8124</td>\n",
              "    </tr>\n",
              "    <tr>\n",
              "      <th>unique</th>\n",
              "      <td>6</td>\n",
              "      <td>4</td>\n",
              "      <td>10</td>\n",
              "      <td>2</td>\n",
              "      <td>9</td>\n",
              "      <td>2</td>\n",
              "      <td>2</td>\n",
              "      <td>2</td>\n",
              "      <td>12</td>\n",
              "      <td>2</td>\n",
              "      <td>...</td>\n",
              "      <td>9</td>\n",
              "      <td>9</td>\n",
              "      <td>1</td>\n",
              "      <td>4</td>\n",
              "      <td>3</td>\n",
              "      <td>5</td>\n",
              "      <td>9</td>\n",
              "      <td>6</td>\n",
              "      <td>7</td>\n",
              "      <td>2</td>\n",
              "    </tr>\n",
              "    <tr>\n",
              "      <th>top</th>\n",
              "      <td>b'x'</td>\n",
              "      <td>b'y'</td>\n",
              "      <td>b'n'</td>\n",
              "      <td>b'f'</td>\n",
              "      <td>b'n'</td>\n",
              "      <td>b'f'</td>\n",
              "      <td>b'c'</td>\n",
              "      <td>b'b'</td>\n",
              "      <td>b'b'</td>\n",
              "      <td>b't'</td>\n",
              "      <td>...</td>\n",
              "      <td>b'w'</td>\n",
              "      <td>b'w'</td>\n",
              "      <td>b'p'</td>\n",
              "      <td>b'w'</td>\n",
              "      <td>b'o'</td>\n",
              "      <td>b'p'</td>\n",
              "      <td>b'w'</td>\n",
              "      <td>b'v'</td>\n",
              "      <td>b'd'</td>\n",
              "      <td>b'e'</td>\n",
              "    </tr>\n",
              "    <tr>\n",
              "      <th>freq</th>\n",
              "      <td>3656</td>\n",
              "      <td>3244</td>\n",
              "      <td>2284</td>\n",
              "      <td>4748</td>\n",
              "      <td>3528</td>\n",
              "      <td>7914</td>\n",
              "      <td>6812</td>\n",
              "      <td>5612</td>\n",
              "      <td>1728</td>\n",
              "      <td>4608</td>\n",
              "      <td>...</td>\n",
              "      <td>4464</td>\n",
              "      <td>4384</td>\n",
              "      <td>8124</td>\n",
              "      <td>7924</td>\n",
              "      <td>7488</td>\n",
              "      <td>3968</td>\n",
              "      <td>2388</td>\n",
              "      <td>4040</td>\n",
              "      <td>3148</td>\n",
              "      <td>4208</td>\n",
              "    </tr>\n",
              "  </tbody>\n",
              "</table>\n",
              "<p>4 rows × 23 columns</p>\n",
              "</div>"
            ],
            "text/plain": [
              "       cap-shape cap-surface cap-color bruises%3F  odor gill-attachment  \\\n",
              "count       8124        8124      8124       8124  8124            8124   \n",
              "unique         6           4        10          2     9               2   \n",
              "top         b'x'        b'y'      b'n'       b'f'  b'n'            b'f'   \n",
              "freq        3656        3244      2284       4748  3528            7914   \n",
              "\n",
              "       gill-spacing gill-size gill-color stalk-shape  ...  \\\n",
              "count          8124      8124       8124        8124  ...   \n",
              "unique            2         2         12           2  ...   \n",
              "top            b'c'      b'b'       b'b'        b't'  ...   \n",
              "freq           6812      5612       1728        4608  ...   \n",
              "\n",
              "       stalk-color-above-ring stalk-color-below-ring veil-type veil-color  \\\n",
              "count                    8124                   8124      8124       8124   \n",
              "unique                      9                      9         1          4   \n",
              "top                      b'w'                   b'w'      b'p'       b'w'   \n",
              "freq                     4464                   4384      8124       7924   \n",
              "\n",
              "       ring-number ring-type spore-print-color population habitat class  \n",
              "count         8124      8124              8124       8124    8124  8124  \n",
              "unique           3         5                 9          6       7     2  \n",
              "top           b'o'      b'p'              b'w'       b'v'    b'd'  b'e'  \n",
              "freq          7488      3968              2388       4040    3148  4208  \n",
              "\n",
              "[4 rows x 23 columns]"
            ]
          },
          "execution_count": 4,
          "metadata": {},
          "output_type": "execute_result"
        }
      ],
      "source": [
        "df.describe()"
      ]
    },
    {
      "cell_type": "markdown",
      "source": [
        "Let's explore the data to see if there are any dependencies"
      ],
      "metadata": {
        "id": "5qtayoHvo0dC"
      }
    },
    {
      "cell_type": "code",
      "execution_count": null,
      "metadata": {
        "id": "kQtim2MBmrMI",
        "outputId": "d92d9137-7042-4620-a406-1f23f6dbd4e1"
      },
      "outputs": [
        {
          "data": {
            "text/plain": [
              "<matplotlib.legend.Legend at 0x1bc64e36910>"
            ]
          },
          "execution_count": 3,
          "metadata": {},
          "output_type": "execute_result"
        },
        {
          "data": {
            "image/png": "[encoded data removed]",
            "text/plain": [
              "<Figure size 640x480 with 1 Axes>"
            ]
          },
          "metadata": {},
          "output_type": "display_data"
        }
      ],
      "source": [
        "sns.histplot(data=df, x=\"cap-shape\", hue=\"class\", multiple=\"dodge\", legend=False )\n",
        "plt.legend(title='Cap-shape to class', loc='upper right', labels=['Edible', 'Poisonous'])"
      ]
    },
    {
      "cell_type": "code",
      "execution_count": null,
      "metadata": {
        "id": "EiX22Rn4mrMJ",
        "outputId": "792dd2aa-5a1a-48d2-be2d-1d0c071b45ad"
      },
      "outputs": [
        {
          "data": {
            "text/plain": [
              "cap-shape  class\n",
              "b'b'       b'e'      404\n",
              "           b'p'       48\n",
              "b'c'       b'p'        4\n",
              "b'f'       b'e'     1596\n",
              "           b'p'     1556\n",
              "b'k'       b'e'      228\n",
              "           b'p'      600\n",
              "b's'       b'e'       32\n",
              "b'x'       b'e'     1948\n",
              "           b'p'     1708\n",
              "Name: class, dtype: int64"
            ]
          },
          "execution_count": 4,
          "metadata": {},
          "output_type": "execute_result"
        }
      ],
      "source": [
        "data = df.groupby(['cap-shape', 'class'])['class'].count()\n",
        "data"
      ]
    },
    {
      "cell_type": "code",
      "execution_count": null,
      "metadata": {
        "id": "wZYL1ciFmrMJ",
        "outputId": "3ebbd9ee-dddc-4f11-95c7-6242f1ad94f1"
      },
      "outputs": [
        {
          "data": {
            "text/plain": [
              "<matplotlib.legend.Legend at 0x1bc69c7e910>"
            ]
          },
          "execution_count": 12,
          "metadata": {},
          "output_type": "execute_result"
        },
        {
          "data": {
            "image/png": "[encoded data removed]",
            "text/plain": [
              "<Figure size 640x480 with 1 Axes>"
            ]
          },
          "metadata": {},
          "output_type": "display_data"
        }
      ],
      "source": [
        "sns.histplot(data=df, x=\"cap-color\", hue=\"class\", multiple=\"dodge\", legend=False )\n",
        "plt.legend(title='Cap-color to class', loc='upper right', labels=['Edible', 'Poisonous'])"
      ]
    },
    {
      "cell_type": "code",
      "execution_count": null,
      "metadata": {
        "id": "qKqYFLymmrMK",
        "outputId": "26718b55-3e06-425e-cb30-5343cf7b06ea"
      },
      "outputs": [
        {
          "data": {
            "text/plain": [
              "<matplotlib.legend.Legend at 0x1bc6989a690>"
            ]
          },
          "execution_count": 11,
          "metadata": {},
          "output_type": "execute_result"
        },
        {
          "data": {
            "image/png": "[encoded data removed]",
            "text/plain": [
              "<Figure size 640x480 with 1 Axes>"
            ]
          },
          "metadata": {},
          "output_type": "display_data"
        }
      ],
      "source": [
        "sns.histplot(data=df, x=\"gill-size\", hue=\"class\", multiple=\"dodge\", legend=False )\n",
        "plt.legend(title='Gill size to class', loc='upper right', labels=['Edible', 'Poisonous'])"
      ]
    },
    {
      "cell_type": "markdown",
      "source": [
        "Moving on to the classification mdoel"
      ],
      "metadata": {
        "id": "Zf6-U_Rco_CG"
      }
    },
    {
      "cell_type": "code",
      "execution_count": null,
      "metadata": {
        "id": "MfL1wUEvmrMK"
      },
      "outputs": [],
      "source": [
        "#encoding the data from categorical values to numerical\n",
        "from sklearn.preprocessing import LabelEncoder\n",
        "le=LabelEncoder()\n",
        "for col in df.columns: \n",
        "    df[col]=le.fit_transform(df[col])"
      ]
    },
    {
      "cell_type": "code",
      "execution_count": null,
      "metadata": {
        "id": "mE2QLoHnmrML",
        "outputId": "80a0fd31-ab5f-4143-859e-991b1a7b57b2"
      },
      "outputs": [
        {
          "data": {
            "text/html": [
              "<div>\n",
              "<style scoped>\n",
              "    .dataframe tbody tr th:only-of-type {\n",
              "        vertical-align: middle;\n",
              "    }\n",
              "\n",
              "    .dataframe tbody tr th {\n",
              "        vertical-align: top;\n",
              "    }\n",
              "\n",
              "    .dataframe thead th {\n",
              "        text-align: right;\n",
              "    }\n",
              "</style>\n",
              "<table border=\"1\" class=\"dataframe\">\n",
              "  <thead>\n",
              "    <tr style=\"text-align: right;\">\n",
              "      <th></th>\n",
              "      <th>cap-shape</th>\n",
              "      <th>cap-surface</th>\n",
              "      <th>cap-color</th>\n",
              "      <th>bruises%3F</th>\n",
              "      <th>odor</th>\n",
              "      <th>gill-attachment</th>\n",
              "      <th>gill-spacing</th>\n",
              "      <th>gill-size</th>\n",
              "      <th>gill-color</th>\n",
              "      <th>stalk-shape</th>\n",
              "      <th>...</th>\n",
              "      <th>stalk-color-above-ring</th>\n",
              "      <th>stalk-color-below-ring</th>\n",
              "      <th>veil-type</th>\n",
              "      <th>veil-color</th>\n",
              "      <th>ring-number</th>\n",
              "      <th>ring-type</th>\n",
              "      <th>spore-print-color</th>\n",
              "      <th>population</th>\n",
              "      <th>habitat</th>\n",
              "      <th>class</th>\n",
              "    </tr>\n",
              "  </thead>\n",
              "  <tbody>\n",
              "    <tr>\n",
              "      <th>0</th>\n",
              "      <td>5</td>\n",
              "      <td>2</td>\n",
              "      <td>4</td>\n",
              "      <td>1</td>\n",
              "      <td>6</td>\n",
              "      <td>1</td>\n",
              "      <td>0</td>\n",
              "      <td>1</td>\n",
              "      <td>4</td>\n",
              "      <td>0</td>\n",
              "      <td>...</td>\n",
              "      <td>7</td>\n",
              "      <td>7</td>\n",
              "      <td>0</td>\n",
              "      <td>2</td>\n",
              "      <td>1</td>\n",
              "      <td>4</td>\n",
              "      <td>2</td>\n",
              "      <td>3</td>\n",
              "      <td>5</td>\n",
              "      <td>1</td>\n",
              "    </tr>\n",
              "    <tr>\n",
              "      <th>1</th>\n",
              "      <td>5</td>\n",
              "      <td>2</td>\n",
              "      <td>9</td>\n",
              "      <td>1</td>\n",
              "      <td>0</td>\n",
              "      <td>1</td>\n",
              "      <td>0</td>\n",
              "      <td>0</td>\n",
              "      <td>4</td>\n",
              "      <td>0</td>\n",
              "      <td>...</td>\n",
              "      <td>7</td>\n",
              "      <td>7</td>\n",
              "      <td>0</td>\n",
              "      <td>2</td>\n",
              "      <td>1</td>\n",
              "      <td>4</td>\n",
              "      <td>3</td>\n",
              "      <td>2</td>\n",
              "      <td>1</td>\n",
              "      <td>0</td>\n",
              "    </tr>\n",
              "    <tr>\n",
              "      <th>2</th>\n",
              "      <td>0</td>\n",
              "      <td>2</td>\n",
              "      <td>8</td>\n",
              "      <td>1</td>\n",
              "      <td>3</td>\n",
              "      <td>1</td>\n",
              "      <td>0</td>\n",
              "      <td>0</td>\n",
              "      <td>5</td>\n",
              "      <td>0</td>\n",
              "      <td>...</td>\n",
              "      <td>7</td>\n",
              "      <td>7</td>\n",
              "      <td>0</td>\n",
              "      <td>2</td>\n",
              "      <td>1</td>\n",
              "      <td>4</td>\n",
              "      <td>3</td>\n",
              "      <td>2</td>\n",
              "      <td>3</td>\n",
              "      <td>0</td>\n",
              "    </tr>\n",
              "    <tr>\n",
              "      <th>3</th>\n",
              "      <td>5</td>\n",
              "      <td>3</td>\n",
              "      <td>8</td>\n",
              "      <td>1</td>\n",
              "      <td>6</td>\n",
              "      <td>1</td>\n",
              "      <td>0</td>\n",
              "      <td>1</td>\n",
              "      <td>5</td>\n",
              "      <td>0</td>\n",
              "      <td>...</td>\n",
              "      <td>7</td>\n",
              "      <td>7</td>\n",
              "      <td>0</td>\n",
              "      <td>2</td>\n",
              "      <td>1</td>\n",
              "      <td>4</td>\n",
              "      <td>2</td>\n",
              "      <td>3</td>\n",
              "      <td>5</td>\n",
              "      <td>1</td>\n",
              "    </tr>\n",
              "    <tr>\n",
              "      <th>4</th>\n",
              "      <td>5</td>\n",
              "      <td>2</td>\n",
              "      <td>3</td>\n",
              "      <td>0</td>\n",
              "      <td>5</td>\n",
              "      <td>1</td>\n",
              "      <td>1</td>\n",
              "      <td>0</td>\n",
              "      <td>4</td>\n",
              "      <td>1</td>\n",
              "      <td>...</td>\n",
              "      <td>7</td>\n",
              "      <td>7</td>\n",
              "      <td>0</td>\n",
              "      <td>2</td>\n",
              "      <td>1</td>\n",
              "      <td>0</td>\n",
              "      <td>3</td>\n",
              "      <td>0</td>\n",
              "      <td>1</td>\n",
              "      <td>0</td>\n",
              "    </tr>\n",
              "  </tbody>\n",
              "</table>\n",
              "<p>5 rows × 23 columns</p>\n",
              "</div>"
            ],
            "text/plain": [
              "   cap-shape  cap-surface  cap-color  bruises%3F  odor  gill-attachment  \\\n",
              "0          5            2          4           1     6                1   \n",
              "1          5            2          9           1     0                1   \n",
              "2          0            2          8           1     3                1   \n",
              "3          5            3          8           1     6                1   \n",
              "4          5            2          3           0     5                1   \n",
              "\n",
              "   gill-spacing  gill-size  gill-color  stalk-shape  ...  \\\n",
              "0             0          1           4            0  ...   \n",
              "1             0          0           4            0  ...   \n",
              "2             0          0           5            0  ...   \n",
              "3             0          1           5            0  ...   \n",
              "4             1          0           4            1  ...   \n",
              "\n",
              "   stalk-color-above-ring  stalk-color-below-ring  veil-type  veil-color  \\\n",
              "0                       7                       7          0           2   \n",
              "1                       7                       7          0           2   \n",
              "2                       7                       7          0           2   \n",
              "3                       7                       7          0           2   \n",
              "4                       7                       7          0           2   \n",
              "\n",
              "   ring-number  ring-type  spore-print-color  population  habitat  class  \n",
              "0            1          4                  2           3        5      1  \n",
              "1            1          4                  3           2        1      0  \n",
              "2            1          4                  3           2        3      0  \n",
              "3            1          4                  2           3        5      1  \n",
              "4            1          0                  3           0        1      0  \n",
              "\n",
              "[5 rows x 23 columns]"
            ]
          },
          "execution_count": 5,
          "metadata": {},
          "output_type": "execute_result"
        }
      ],
      "source": [
        "df.head()"
      ]
    },
    {
      "cell_type": "code",
      "execution_count": null,
      "metadata": {
        "id": "kK2NRuQAmrML"
      },
      "outputs": [],
      "source": [
        "#scaling the values to be in the same range\n",
        "from sklearn.preprocessing import MinMaxScaler\n",
        "Features=df.columns\n",
        "scaler = MinMaxScaler(feature_range = (0,1))\n",
        "df_norm = scaler.fit_transform(df)\n",
        "data_new=pd.DataFrame(df_norm,columns=Features)"
      ]
    },
    {
      "cell_type": "code",
      "execution_count": null,
      "metadata": {
        "id": "5zlrz6J1mrMM",
        "outputId": "fe9597ad-9595-45d0-abbd-fcea61751c1e"
      },
      "outputs": [
        {
          "data": {
            "text/html": [
              "<div>\n",
              "<style scoped>\n",
              "    .dataframe tbody tr th:only-of-type {\n",
              "        vertical-align: middle;\n",
              "    }\n",
              "\n",
              "    .dataframe tbody tr th {\n",
              "        vertical-align: top;\n",
              "    }\n",
              "\n",
              "    .dataframe thead th {\n",
              "        text-align: right;\n",
              "    }\n",
              "</style>\n",
              "<table border=\"1\" class=\"dataframe\">\n",
              "  <thead>\n",
              "    <tr style=\"text-align: right;\">\n",
              "      <th></th>\n",
              "      <th>cap-shape</th>\n",
              "      <th>cap-surface</th>\n",
              "      <th>cap-color</th>\n",
              "      <th>bruises%3F</th>\n",
              "      <th>odor</th>\n",
              "      <th>gill-attachment</th>\n",
              "      <th>gill-spacing</th>\n",
              "      <th>gill-size</th>\n",
              "      <th>gill-color</th>\n",
              "      <th>stalk-shape</th>\n",
              "      <th>...</th>\n",
              "      <th>stalk-color-above-ring</th>\n",
              "      <th>stalk-color-below-ring</th>\n",
              "      <th>veil-type</th>\n",
              "      <th>veil-color</th>\n",
              "      <th>ring-number</th>\n",
              "      <th>ring-type</th>\n",
              "      <th>spore-print-color</th>\n",
              "      <th>population</th>\n",
              "      <th>habitat</th>\n",
              "      <th>class</th>\n",
              "    </tr>\n",
              "  </thead>\n",
              "  <tbody>\n",
              "    <tr>\n",
              "      <th>0</th>\n",
              "      <td>1.0</td>\n",
              "      <td>0.666667</td>\n",
              "      <td>0.444444</td>\n",
              "      <td>1.0</td>\n",
              "      <td>0.750</td>\n",
              "      <td>1.0</td>\n",
              "      <td>0.0</td>\n",
              "      <td>1.0</td>\n",
              "      <td>0.363636</td>\n",
              "      <td>0.0</td>\n",
              "      <td>...</td>\n",
              "      <td>0.875</td>\n",
              "      <td>0.875</td>\n",
              "      <td>0.0</td>\n",
              "      <td>0.666667</td>\n",
              "      <td>0.5</td>\n",
              "      <td>1.0</td>\n",
              "      <td>0.250</td>\n",
              "      <td>0.6</td>\n",
              "      <td>0.833333</td>\n",
              "      <td>1.0</td>\n",
              "    </tr>\n",
              "    <tr>\n",
              "      <th>1</th>\n",
              "      <td>1.0</td>\n",
              "      <td>0.666667</td>\n",
              "      <td>1.000000</td>\n",
              "      <td>1.0</td>\n",
              "      <td>0.000</td>\n",
              "      <td>1.0</td>\n",
              "      <td>0.0</td>\n",
              "      <td>0.0</td>\n",
              "      <td>0.363636</td>\n",
              "      <td>0.0</td>\n",
              "      <td>...</td>\n",
              "      <td>0.875</td>\n",
              "      <td>0.875</td>\n",
              "      <td>0.0</td>\n",
              "      <td>0.666667</td>\n",
              "      <td>0.5</td>\n",
              "      <td>1.0</td>\n",
              "      <td>0.375</td>\n",
              "      <td>0.4</td>\n",
              "      <td>0.166667</td>\n",
              "      <td>0.0</td>\n",
              "    </tr>\n",
              "    <tr>\n",
              "      <th>2</th>\n",
              "      <td>0.0</td>\n",
              "      <td>0.666667</td>\n",
              "      <td>0.888889</td>\n",
              "      <td>1.0</td>\n",
              "      <td>0.375</td>\n",
              "      <td>1.0</td>\n",
              "      <td>0.0</td>\n",
              "      <td>0.0</td>\n",
              "      <td>0.454545</td>\n",
              "      <td>0.0</td>\n",
              "      <td>...</td>\n",
              "      <td>0.875</td>\n",
              "      <td>0.875</td>\n",
              "      <td>0.0</td>\n",
              "      <td>0.666667</td>\n",
              "      <td>0.5</td>\n",
              "      <td>1.0</td>\n",
              "      <td>0.375</td>\n",
              "      <td>0.4</td>\n",
              "      <td>0.500000</td>\n",
              "      <td>0.0</td>\n",
              "    </tr>\n",
              "    <tr>\n",
              "      <th>3</th>\n",
              "      <td>1.0</td>\n",
              "      <td>1.000000</td>\n",
              "      <td>0.888889</td>\n",
              "      <td>1.0</td>\n",
              "      <td>0.750</td>\n",
              "      <td>1.0</td>\n",
              "      <td>0.0</td>\n",
              "      <td>1.0</td>\n",
              "      <td>0.454545</td>\n",
              "      <td>0.0</td>\n",
              "      <td>...</td>\n",
              "      <td>0.875</td>\n",
              "      <td>0.875</td>\n",
              "      <td>0.0</td>\n",
              "      <td>0.666667</td>\n",
              "      <td>0.5</td>\n",
              "      <td>1.0</td>\n",
              "      <td>0.250</td>\n",
              "      <td>0.6</td>\n",
              "      <td>0.833333</td>\n",
              "      <td>1.0</td>\n",
              "    </tr>\n",
              "    <tr>\n",
              "      <th>4</th>\n",
              "      <td>1.0</td>\n",
              "      <td>0.666667</td>\n",
              "      <td>0.333333</td>\n",
              "      <td>0.0</td>\n",
              "      <td>0.625</td>\n",
              "      <td>1.0</td>\n",
              "      <td>1.0</td>\n",
              "      <td>0.0</td>\n",
              "      <td>0.363636</td>\n",
              "      <td>1.0</td>\n",
              "      <td>...</td>\n",
              "      <td>0.875</td>\n",
              "      <td>0.875</td>\n",
              "      <td>0.0</td>\n",
              "      <td>0.666667</td>\n",
              "      <td>0.5</td>\n",
              "      <td>0.0</td>\n",
              "      <td>0.375</td>\n",
              "      <td>0.0</td>\n",
              "      <td>0.166667</td>\n",
              "      <td>0.0</td>\n",
              "    </tr>\n",
              "  </tbody>\n",
              "</table>\n",
              "<p>5 rows × 23 columns</p>\n",
              "</div>"
            ],
            "text/plain": [
              "   cap-shape  cap-surface  cap-color  bruises%3F   odor  gill-attachment  \\\n",
              "0        1.0     0.666667   0.444444         1.0  0.750              1.0   \n",
              "1        1.0     0.666667   1.000000         1.0  0.000              1.0   \n",
              "2        0.0     0.666667   0.888889         1.0  0.375              1.0   \n",
              "3        1.0     1.000000   0.888889         1.0  0.750              1.0   \n",
              "4        1.0     0.666667   0.333333         0.0  0.625              1.0   \n",
              "\n",
              "   gill-spacing  gill-size  gill-color  stalk-shape  ...  \\\n",
              "0           0.0        1.0    0.363636          0.0  ...   \n",
              "1           0.0        0.0    0.363636          0.0  ...   \n",
              "2           0.0        0.0    0.454545          0.0  ...   \n",
              "3           0.0        1.0    0.454545          0.0  ...   \n",
              "4           1.0        0.0    0.363636          1.0  ...   \n",
              "\n",
              "   stalk-color-above-ring  stalk-color-below-ring  veil-type  veil-color  \\\n",
              "0                   0.875                   0.875        0.0    0.666667   \n",
              "1                   0.875                   0.875        0.0    0.666667   \n",
              "2                   0.875                   0.875        0.0    0.666667   \n",
              "3                   0.875                   0.875        0.0    0.666667   \n",
              "4                   0.875                   0.875        0.0    0.666667   \n",
              "\n",
              "   ring-number  ring-type  spore-print-color  population   habitat  class  \n",
              "0          0.5        1.0              0.250         0.6  0.833333    1.0  \n",
              "1          0.5        1.0              0.375         0.4  0.166667    0.0  \n",
              "2          0.5        1.0              0.375         0.4  0.500000    0.0  \n",
              "3          0.5        1.0              0.250         0.6  0.833333    1.0  \n",
              "4          0.5        0.0              0.375         0.0  0.166667    0.0  \n",
              "\n",
              "[5 rows x 23 columns]"
            ]
          },
          "execution_count": 6,
          "metadata": {},
          "output_type": "execute_result"
        }
      ],
      "source": [
        "data_new.head()"
      ]
    },
    {
      "cell_type": "code",
      "execution_count": null,
      "metadata": {
        "id": "0hp5_T-rmrMM",
        "outputId": "f60685a7-6788-4a12-fd83-b5ceae18fa75"
      },
      "outputs": [
        {
          "data": {
            "text/plain": [
              "<Axes: >"
            ]
          },
          "execution_count": 7,
          "metadata": {},
          "output_type": "execute_result"
        },
        {
          "data": {
            "image/png": "[encoded data removed]",
            "text/plain": [
              "<Figure size 1500x1500 with 2 Axes>"
            ]
          },
          "metadata": {},
          "output_type": "display_data"
        }
      ],
      "source": [
        "#checking correlation\n",
        "data_new = data_new.drop('veil-type', axis=1)\n",
        "Correlation=data_new.corr()\n",
        "fig,ax=plt.subplots(figsize=(15,15))\n",
        "sns.heatmap(Correlation,square=True)"
      ]
    },
    {
      "cell_type": "code",
      "execution_count": null,
      "metadata": {
        "id": "ZGMY7OuhmrMN"
      },
      "outputs": [],
      "source": [
        "#splitting the data into train and test subsets and including only highly correlated features (correlation with 'class')\n",
        "from sklearn.model_selection import train_test_split\n",
        "X = data_new[['bruises%3F', 'gill-color', 'ring-type', 'gill-spacing']]\n",
        "y = data_new['class']\n",
        "X_train, X_test, y_train, y_test = train_test_split(X, y, test_size=0.3, random_state=42)\n"
      ]
    },
    {
      "cell_type": "code",
      "execution_count": null,
      "metadata": {
        "id": "5OvXhuPjmrMN",
        "outputId": "4fd57d37-1ca4-4364-a0ee-a4e29cdee12f"
      },
      "outputs": [
        {
          "name": "stdout",
          "output_type": "stream",
          "text": [
            "Train F1: 0.86\n",
            "Test F1: 0.85\n"
          ]
        }
      ],
      "source": [
        "#running the logistic regression model\n",
        "from sklearn import linear_model\n",
        "import sklearn.metrics as metrics\n",
        "from sklearn.metrics import f1_score\n",
        "from sklearn.metrics import accuracy_score\n",
        "log_reg = linear_model.LogisticRegression(solver='sag', random_state=42)\n",
        "log_reg.fit(X_train, y_train)\n",
        "\n",
        "y_train_pred = log_reg.predict(X_train)\n",
        "print('Train F1: {:.2f}'.format(metrics.f1_score(y_train, y_train_pred)))\n",
        "y_test_pred = log_reg.predict(X_test)\n",
        "print('Test F1: {:.2f}'.format(metrics.f1_score(y_test, y_test_pred)))"
      ]
    },
    {
      "cell_type": "code",
      "execution_count": null,
      "metadata": {
        "id": "4pigIit4mrMO"
      },
      "outputs": [],
      "source": [
        "#since the metrics are not high enough, let's run the logistic regression on all features\n",
        "from sklearn.model_selection import train_test_split\n",
        "X = data_new.drop('class', axis=1)\n",
        "y = data_new['class']\n",
        "X_train, X_test, y_train, y_test = train_test_split(X, y, test_size=0.3, random_state=42)"
      ]
    },
    {
      "cell_type": "code",
      "execution_count": null,
      "metadata": {
        "id": "Xm8KTYVDmrMP",
        "outputId": "c9f445e7-f992-4d35-9d5f-e3b3a0064b94"
      },
      "outputs": [
        {
          "name": "stdout",
          "output_type": "stream",
          "text": [
            "Train F1: 0.95\n",
            "Test F1: 0.95\n"
          ]
        }
      ],
      "source": [
        "log_reg = linear_model.LogisticRegression(solver='sag', random_state=42)\n",
        "\n",
        "log_reg.fit(X_train, y_train)\n",
        "\n",
        "y_train_pred1 = log_reg.predict(X_train)\n",
        "print('Train F1: {:.2f}'.format(metrics.f1_score(y_train, y_train_pred1)))\n",
        "\n",
        "y_test_pred1 = log_reg.predict(X_test)\n",
        "print('Test F1: {:.2f}'.format(metrics.f1_score(y_test, y_test_pred1)))"
      ]
    },
    {
      "cell_type": "code",
      "execution_count": null,
      "metadata": {
        "id": "i8LAGFeGmrMP",
        "outputId": "7edf211c-5908-40cf-a776-93ce3d42dc3a"
      },
      "outputs": [
        {
          "name": "stdout",
          "output_type": "stream",
          "text": [
            "              precision    recall  f1-score   support\n",
            "\n",
            "         0.0       0.95      0.96      0.95      1257\n",
            "         1.0       0.96      0.94      0.95      1181\n",
            "\n",
            "    accuracy                           0.95      2438\n",
            "   macro avg       0.95      0.95      0.95      2438\n",
            "weighted avg       0.95      0.95      0.95      2438\n",
            "\n"
          ]
        }
      ],
      "source": [
        "#taking a look at all metrics\n",
        "print(metrics.classification_report(y_test, y_test_pred1))"
      ]
    }
  ],
  "metadata": {
    "kernelspec": {
      "display_name": "Python 3",
      "language": "python",
      "name": "python3"
    },
    "language_info": {
      "codemirror_mode": {
        "name": "ipython",
        "version": 3
      },
      "file_extension": ".py",
      "mimetype": "text/x-python",
      "name": "python",
      "nbconvert_exporter": "python",
      "pygments_lexer": "ipython3",
      "version": "3.11.2"
    },
    "orig_nbformat": 4,
    "vscode": {
      "interpreter": {
        "hash": "038b1f2cb85b97be7937938d15795fe5f566d32b4066b0c8437cbe2b6a3705a3"
      }
    },
    "colab": {
      "provenance": []
    }
  },
  "nbformat": 4,
  "nbformat_minor": 0
}